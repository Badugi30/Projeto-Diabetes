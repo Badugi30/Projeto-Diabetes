{
 "cells": [
  {
   "cell_type": "code",
   "execution_count": 1,
   "metadata": {},
   "outputs": [],
   "source": [
    "import pandas as pd\n",
    "import numpy as np\n",
    "import matplotlib.pyplot as plt\n",
    "import sklearn\n",
    "from sklearn.ensemble import RandomForestClassifier\n",
    "from sklearn.pipeline import Pipeline\n",
    "from sklearn import metrics\n",
    "from sklearn.metrics import mean_squared_error, r2_score\n",
    "from scipy import stats\n",
    "import warnings\n",
    "from imblearn.over_sampling import SMOTE\n",
    "warnings.filterwarnings(\"ignore\")"
   ]
  },
  {
   "cell_type": "code",
   "execution_count": 2,
   "metadata": {},
   "outputs": [
    {
     "name": "stdout",
     "output_type": "stream",
     "text": [
      "CPU times: user 24min 20s, sys: 39.6 s, total: 24min 59s\n",
      "Wall time: 31min 26s\n"
     ]
    }
   ],
   "source": [
    "%%time\n",
    "df_2018 = pd.read_excel('Vigitel-2018-peso-rake.xls')\n",
    "df_2017 = pd.read_excel('Vigitel-2017-peso-rake.xls')\n",
    "df_2016 = pd.read_excel('Vigitel-2016-peso-rake.xls')\n",
    "df_2015 = pd.read_excel('Vigitel-2015-peso-rake.xls')\n",
    "df_2014 = pd.read_excel('Vigitel-2014-peso-rake.xls')\n",
    "df_2013 = pd.read_excel('Vigitel-2013-peso-rake.xls')\n",
    "df_2012 = pd.read_excel('Vigitel-2012-peso-rake.xls')\n",
    "df_2011 = pd.read_excel('Vigitel-2011-peso-rake.xls')\n",
    "df_2010 = pd.read_excel('Vigitel-2010-peso-rake.xls')\n",
    "df_2009 = pd.read_excel('Vigitel-2009-peso-rake.xls')\n",
    "df_2008 = pd.read_excel('Vigitel-2008-peso-rake.xls')\n",
    "df_2007 = pd.read_excel('Vigitel-2007-peso-rake.xls')\n",
    "df_2006 = pd.read_excel('Vigitel-2006-peso-rake.xls')"
   ]
  },
  {
   "cell_type": "code",
   "execution_count": 3,
   "metadata": {},
   "outputs": [],
   "source": [
    "dfs = df_2018.append([df_2017,df_2016,df_2015,df_2014,df_2013,df_2012,df_2011,df_2010,df_2009,df_2008,df_2007,df_2006],ignore_index=True)\n",
    "dfs = df_2018"
   ]
  },
  {
   "cell_type": "code",
   "execution_count": 4,
   "metadata": {},
   "outputs": [],
   "source": [
    "dfs2 = dfs[['diab','ano','cidade','q6','q7','civil','q8a','q9','q11','q29','hart','r202','hortareg','frutareg','q42','fumante']]"
   ]
  },
  {
   "cell_type": "code",
   "execution_count": 5,
   "metadata": {},
   "outputs": [],
   "source": [
    "dfs2 = dfs2.rename(columns={'q6':'idade','q7':'sexo','q9':'peso', 'q11':'altura','q8a':'escolaridade','q29':'refrigerante','r202':'idade_diab','q42':'exercicio'})"
   ]
  },
  {
   "cell_type": "code",
   "execution_count": 6,
   "metadata": {},
   "outputs": [],
   "source": [
    "dfs2['civil'] = dfs2.civil.replace({888:0,3:2,4:3,5:3})\n",
    "dfs2['escolaridade'] = dfs2.escolaridade.replace({2:1,3:1,4:2,5:3,6:4,7:5,8:1})\n",
    "dfs2['refrigerante'] = dfs2.refrigerante.replace({3:2,4:3,5:4,6:4})\n",
    "dfs2['exercicio'] = dfs2.exercicio.replace({2:0})\n",
    "dfs2.drop(dfs2.loc[dfs2['peso']==777].index, inplace=True)\n",
    "dfs2.drop(dfs2.loc[dfs2['peso']==888].index, inplace=True)\n",
    "dfs2.drop(dfs2.loc[dfs2['altura']==777].index, inplace=True)\n",
    "dfs2.drop(dfs2.loc[dfs2['altura']==888].index, inplace=True)\n",
    "dfs2.drop(dfs2.loc[dfs2['escolaridade']==777].index, inplace=True)\n",
    "dfs2.drop(dfs2.loc[dfs2['escolaridade']==888].index, inplace=True)\n",
    "dfs2.drop(dfs2.loc[dfs2['idade_diab']==777].index, inplace=True)"
   ]
  },
  {
   "cell_type": "code",
   "execution_count": 7,
   "metadata": {},
   "outputs": [],
   "source": [
    "dfs2['delta_idade_diab'] = dfs2['idade']-dfs2['idade_diab']\n",
    "dfs2['idade_diab2'] = dfs2['idade_diab']\n",
    "dfs2['idade_diab2'][dfs2.delta_idade_diab > 5] = 0\n",
    "dfs2['idade_diab2'][dfs2.delta_idade_diab <= 5] = 1\n",
    "dfs2['idade_diab2'].fillna(0, inplace = True)"
   ]
  },
  {
   "cell_type": "code",
   "execution_count": 8,
   "metadata": {},
   "outputs": [
    {
     "data": {
      "text/plain": [
       "0    90.209073\n",
       "1     9.790927\n",
       "Name: diab, dtype: float64"
      ]
     },
     "execution_count": 8,
     "metadata": {},
     "output_type": "execute_result"
    }
   ],
   "source": [
    "dfs2['diab'].value_counts() / len(dfs2) * 100"
   ]
  },
  {
   "cell_type": "code",
   "execution_count": 9,
   "metadata": {},
   "outputs": [
    {
     "data": {
      "text/plain": [
       "0.0    96.645859\n",
       "1.0     3.354141\n",
       "Name: idade_diab2, dtype: float64"
      ]
     },
     "execution_count": 9,
     "metadata": {},
     "output_type": "execute_result"
    }
   ],
   "source": [
    "dfs2['idade_diab2'].value_counts() / len(dfs2) * 100"
   ]
  },
  {
   "cell_type": "code",
   "execution_count": 10,
   "metadata": {},
   "outputs": [],
   "source": [
    "dfs2['altura'].fillna(dfs2['altura'].mean(), inplace = True)\n",
    "dfs2['peso'].fillna(dfs2['peso'].mean(), inplace = True)\n",
    "dfs2['escolaridade'].fillna(dfs2['escolaridade'].mean(), inplace = True)"
   ]
  },
  {
   "cell_type": "code",
   "execution_count": 11,
   "metadata": {},
   "outputs": [],
   "source": [
    "dfs2['IMC'] = dfs2['peso'] / ((dfs2['altura']* 0.01)**2)\n",
    "\n",
    "def class_imc(IMC):\n",
    "    classification = 0\n",
    "    if IMC > 30:\n",
    "        classification = 4\n",
    "    elif IMC > 25:\n",
    "        classification = 3        \n",
    "    elif IMC > 18.5:\n",
    "        classification = 2\n",
    "    else:\n",
    "        classification = 1        \n",
    "    return classification\n",
    "dfs2['imc_class'] = dfs2['IMC'].apply(class_imc)"
   ]
  },
  {
   "cell_type": "code",
   "execution_count": 12,
   "metadata": {},
   "outputs": [],
   "source": [
    "X = dfs2.drop(['idade_diab2','diab','idade_diab','altura','peso','cidade','ano','delta_idade_diab','idade_diab','IMC'], axis = 1)\n",
    "y = dfs2.idade_diab2"
   ]
  },
  {
   "cell_type": "code",
   "execution_count": 13,
   "metadata": {},
   "outputs": [],
   "source": [
    "X_resampled, y_resampled = SMOTE(n_jobs=-1).fit_resample(X, y)"
   ]
  },
  {
   "cell_type": "code",
   "execution_count": 14,
   "metadata": {},
   "outputs": [
    {
     "name": "stdout",
     "output_type": "stream",
     "text": [
      "Size of train set: (72334, 11)\n",
      "Size of test set: (18084, 11)\n"
     ]
    }
   ],
   "source": [
    "from sklearn.model_selection import train_test_split\n",
    "X_train, X_test, y_train, y_test = train_test_split(X_resampled, y_resampled, test_size=0.2, random_state=42)\n",
    "print(f'Size of train set: {X_train.shape}')\n",
    "print(f'Size of test set: {X_test.shape}')"
   ]
  },
  {
   "cell_type": "code",
   "execution_count": 15,
   "metadata": {},
   "outputs": [
    {
     "data": {
      "text/plain": [
       "((90418, 11), (90418,), (72334, 11), (18084, 11), (72334,), (18084,))"
      ]
     },
     "execution_count": 15,
     "metadata": {},
     "output_type": "execute_result"
    }
   ],
   "source": [
    "X_resampled.shape, y_resampled.shape, X_train.shape, X_test.shape, y_train.shape, y_test.shape"
   ]
  },
  {
   "cell_type": "code",
   "execution_count": 16,
   "metadata": {},
   "outputs": [
    {
     "data": {
      "image/png": "[encoded data removed]",
      "text/plain": [
       "<Figure size 432x288 with 1 Axes>"
      ]
     },
     "metadata": {
      "needs_background": "light"
     },
     "output_type": "display_data"
    }
   ],
   "source": [
    "from sklearn.ensemble import ExtraTreesClassifier\n",
    "model = ExtraTreesClassifier(n_estimators=10,n_jobs=-1)\n",
    "model.fit(X_train, y_train)\n",
    "pd.Series(model.feature_importances_, index=X_resampled.columns).nlargest(10).sort_values().plot.barh();"
   ]
  },
  {
   "cell_type": "code",
   "execution_count": 17,
   "metadata": {},
   "outputs": [
    {
     "data": {
      "image/png": "[encoded data removed]",
      "text/plain": [
       "<Figure size 432x288 with 1 Axes>"
      ]
     },
     "metadata": {
      "needs_background": "light"
     },
     "output_type": "display_data"
    },
    {
     "name": "stdout",
     "output_type": "stream",
     "text": [
      "CPU times: user 49.3 s, sys: 472 ms, total: 49.8 s\n",
      "Wall time: 14.2 s\n"
     ]
    }
   ],
   "source": [
    "%%time\n",
    "import xgboost as xgb\n",
    "from xgboost import plot_importance\n",
    "model = xgb.XGBClassifier(n_jobs=-1)\n",
    "model.fit(X_train, y_train)\n",
    "plot_importance(model)\n",
    "plt.show()"
   ]
  },
  {
   "cell_type": "code",
   "execution_count": 18,
   "metadata": {},
   "outputs": [
    {
     "name": "stdout",
     "output_type": "stream",
     "text": [
      "Accuracy: 0.942545896925459\n",
      "Precision: 0.9130660573327793\n",
      "Recall: 0.9775380851773602\n",
      "CPU times: user 30.7 s, sys: 875 ms, total: 31.6 s\n",
      "Wall time: 10 s\n"
     ]
    },
    {
     "data": {
      "text/plain": [
       "<matplotlib.legend.Legend at 0x1a5fc2aa10>"
      ]
     },
     "execution_count": 18,
     "metadata": {},
     "output_type": "execute_result"
    },
    {
     "data": {
      "image/png": "[encoded data removed]",
      "text/plain": [
       "<Figure size 432x288 with 1 Axes>"
      ]
     },
     "metadata": {
      "needs_background": "light"
     },
     "output_type": "display_data"
    }
   ],
   "source": [
    "%%time\n",
    "#clf = RandomForestClassifier(n_estimators=100, random_state=42, n_jobs=-1, min_samples_leaf=1, max_depth=20)\n",
    "clf = RandomForestClassifier(n_estimators=100, random_state=42, n_jobs=-1)\n",
    "clf.fit(X_train, y_train)\n",
    "\n",
    "y_pred = clf.predict(X_test)\n",
    "\n",
    "print(\"Accuracy:\", metrics.accuracy_score(y_test, y_pred))\n",
    "print(\"Precision:\", metrics.precision_score(y_test, y_pred))\n",
    "print(\"Recall:\", metrics.recall_score(y_test, y_pred))\n",
    "\n",
    "y_pred_proba = clf.predict_proba(X_test)[::,1]\n",
    "fpr, tpr, _ = metrics.roc_curve(y_test,  y_pred_proba)\n",
    "auc = metrics.roc_auc_score(y_test, y_pred_proba)\n",
    "plt.plot(fpr,tpr,label=\"RFC\"+\", auc=\"+str(auc))\n",
    "plt.plot([0, 1], [0, 1], color='red', lw=2, linestyle='--')\n",
    "plt.legend(loc=4)"
   ]
  },
  {
   "cell_type": "code",
   "execution_count": 19,
   "metadata": {},
   "outputs": [
    {
     "data": {
      "text/html": [
       "<div>\n",
       "<style scoped>\n",
       "    .dataframe tbody tr th:only-of-type {\n",
       "        vertical-align: middle;\n",
       "    }\n",
       "\n",
       "    .dataframe tbody tr th {\n",
       "        vertical-align: top;\n",
       "    }\n",
       "\n",
       "    .dataframe thead th {\n",
       "        text-align: right;\n",
       "    }\n",
       "</style>\n",
       "<table border=\"1\" class=\"dataframe\">\n",
       "  <thead>\n",
       "    <tr style=\"text-align: right;\">\n",
       "      <th></th>\n",
       "      <th>Trainning_Accuracy</th>\n",
       "      <th>Validation_Accuracy</th>\n",
       "    </tr>\n",
       "  </thead>\n",
       "  <tbody>\n",
       "    <tr>\n",
       "      <th>clf</th>\n",
       "      <td>0.972489</td>\n",
       "      <td>0.942546</td>\n",
       "    </tr>\n",
       "  </tbody>\n",
       "</table>\n",
       "</div>"
      ],
      "text/plain": [
       "     Trainning_Accuracy  Validation_Accuracy\n",
       "clf            0.972489             0.942546"
      ]
     },
     "execution_count": 19,
     "metadata": {},
     "output_type": "execute_result"
    }
   ],
   "source": [
    "models=['clf']\n",
    "\n",
    "Trainning_Accuracy=[clf.score(X_train,y_train)]\n",
    "\n",
    "Validation_Accuracy=[clf.score(X_test, y_test)]\n",
    "\n",
    "pd.DataFrame(list(zip(Trainning_Accuracy, Validation_Accuracy)), \n",
    "                  columns =['Trainning_Accuracy', 'Validation_Accuracy'],\n",
    "                  index=models)"
   ]
  },
  {
   "cell_type": "code",
   "execution_count": 20,
   "metadata": {},
   "outputs": [
    {
     "data": {
      "text/plain": [
       "0.7701768384295473"
      ]
     },
     "execution_count": 20,
     "metadata": {},
     "output_type": "execute_result"
    }
   ],
   "source": [
    "sklearn.metrics.r2_score(y_test, y_pred)"
   ]
  },
  {
   "cell_type": "code",
   "execution_count": 21,
   "metadata": {},
   "outputs": [],
   "source": [
    "import pickle\n",
    "\n",
    "TESTE = 'V3.pkl'\n",
    "with open(TESTE, 'wb') as file:\n",
    "    pickle.dump(clf, file)"
   ]
  },
  {
   "cell_type": "code",
   "execution_count": 22,
   "metadata": {},
   "outputs": [],
   "source": [
    "with open(TESTE, 'rb') as file:\n",
    "    modelo = pickle.load(file)"
   ]
  },
  {
   "cell_type": "code",
   "execution_count": 23,
   "metadata": {},
   "outputs": [],
   "source": [
    "features =  {'idade':[\"60\"],'sexo':[\"1\"],'civil':[\"2\"],'escolaridade':[\"1\"],'refrigerante':[\"2\"],'hart':[\"1\"],'hortareg':[\"1\"],'frutareg':[\"1\"],'exercicio':[\"1\"],'fumante':[\"0\"],'imc_class':[\"2\"]}"
   ]
  },
  {
   "cell_type": "code",
   "execution_count": 24,
   "metadata": {},
   "outputs": [],
   "source": [
    "X = pd.DataFrame(features)"
   ]
  },
  {
   "cell_type": "code",
   "execution_count": 25,
   "metadata": {},
   "outputs": [],
   "source": [
    "resultado = modelo.predict_proba(X)"
   ]
  },
  {
   "cell_type": "code",
   "execution_count": 26,
   "metadata": {},
   "outputs": [
    {
     "data": {
      "text/plain": [
       "array([[0.77, 0.23]])"
      ]
     },
     "execution_count": 26,
     "metadata": {},
     "output_type": "execute_result"
    }
   ],
   "source": [
    "resultado"
   ]
  },
  {
   "cell_type": "code",
   "execution_count": 28,
   "metadata": {},
   "outputs": [
    {
     "data": {
      "text/html": [
       "<div>\n",
       "<style scoped>\n",
       "    .dataframe tbody tr th:only-of-type {\n",
       "        vertical-align: middle;\n",
       "    }\n",
       "\n",
       "    .dataframe tbody tr th {\n",
       "        vertical-align: top;\n",
       "    }\n",
       "\n",
       "    .dataframe thead th {\n",
       "        text-align: right;\n",
       "    }\n",
       "</style>\n",
       "<table border=\"1\" class=\"dataframe\">\n",
       "  <thead>\n",
       "    <tr style=\"text-align: right;\">\n",
       "      <th></th>\n",
       "      <th>idade</th>\n",
       "      <th>sexo</th>\n",
       "      <th>civil</th>\n",
       "      <th>escolaridade</th>\n",
       "      <th>refrigerante</th>\n",
       "      <th>hart</th>\n",
       "      <th>hortareg</th>\n",
       "      <th>frutareg</th>\n",
       "      <th>exercicio</th>\n",
       "      <th>fumante</th>\n",
       "      <th>imc_class</th>\n",
       "    </tr>\n",
       "  </thead>\n",
       "  <tbody>\n",
       "    <tr>\n",
       "      <th>67943</th>\n",
       "      <td>73</td>\n",
       "      <td>2</td>\n",
       "      <td>3</td>\n",
       "      <td>3</td>\n",
       "      <td>3</td>\n",
       "      <td>1</td>\n",
       "      <td>1</td>\n",
       "      <td>1</td>\n",
       "      <td>1</td>\n",
       "      <td>0</td>\n",
       "      <td>4</td>\n",
       "    </tr>\n",
       "    <tr>\n",
       "      <th>47811</th>\n",
       "      <td>81</td>\n",
       "      <td>2</td>\n",
       "      <td>2</td>\n",
       "      <td>1</td>\n",
       "      <td>4</td>\n",
       "      <td>1</td>\n",
       "      <td>0</td>\n",
       "      <td>1</td>\n",
       "      <td>1</td>\n",
       "      <td>0</td>\n",
       "      <td>3</td>\n",
       "    </tr>\n",
       "    <tr>\n",
       "      <th>72866</th>\n",
       "      <td>52</td>\n",
       "      <td>1</td>\n",
       "      <td>1</td>\n",
       "      <td>4</td>\n",
       "      <td>1</td>\n",
       "      <td>1</td>\n",
       "      <td>1</td>\n",
       "      <td>0</td>\n",
       "      <td>0</td>\n",
       "      <td>0</td>\n",
       "      <td>4</td>\n",
       "    </tr>\n",
       "    <tr>\n",
       "      <th>71491</th>\n",
       "      <td>72</td>\n",
       "      <td>2</td>\n",
       "      <td>3</td>\n",
       "      <td>3</td>\n",
       "      <td>3</td>\n",
       "      <td>1</td>\n",
       "      <td>1</td>\n",
       "      <td>1</td>\n",
       "      <td>1</td>\n",
       "      <td>0</td>\n",
       "      <td>4</td>\n",
       "    </tr>\n",
       "    <tr>\n",
       "      <th>42119</th>\n",
       "      <td>45</td>\n",
       "      <td>1</td>\n",
       "      <td>2</td>\n",
       "      <td>4</td>\n",
       "      <td>3</td>\n",
       "      <td>0</td>\n",
       "      <td>1</td>\n",
       "      <td>1</td>\n",
       "      <td>1</td>\n",
       "      <td>0</td>\n",
       "      <td>3</td>\n",
       "    </tr>\n",
       "  </tbody>\n",
       "</table>\n",
       "</div>"
      ],
      "text/plain": [
       "       idade  sexo  civil  escolaridade  refrigerante  hart  hortareg  \\\n",
       "67943     73     2      3             3             3     1         1   \n",
       "47811     81     2      2             1             4     1         0   \n",
       "72866     52     1      1             4             1     1         1   \n",
       "71491     72     2      3             3             3     1         1   \n",
       "42119     45     1      2             4             3     0         1   \n",
       "\n",
       "       frutareg  exercicio  fumante  imc_class  \n",
       "67943         1          1        0          4  \n",
       "47811         1          1        0          3  \n",
       "72866         0          0        0          4  \n",
       "71491         1          1        0          4  \n",
       "42119         1          1        0          3  "
      ]
     },
     "execution_count": 28,
     "metadata": {},
     "output_type": "execute_result"
    }
   ],
   "source": [
    "X_train.head()"
   ]
  },
  {
   "cell_type": "code",
   "execution_count": 29,
   "metadata": {},
   "outputs": [],
   "source": [
    "teste = np.array([[37,2,2,5,4,0,1,1,1,0,2]])"
   ]
  },
  {
   "cell_type": "code",
   "execution_count": null,
   "metadata": {},
   "outputs": [],
   "source": []
  }
 ],
 "metadata": {
  "kernelspec": {
   "display_name": "Python 3",
   "language": "python",
   "name": "python3"
  },
  "language_info": {
   "codemirror_mode": {
    "name": "ipython",
    "version": 3
   },
   "file_extension": ".py",
   "mimetype": "text/x-python",
   "name": "python",
   "nbconvert_exporter": "python",
   "pygments_lexer": "ipython3",
   "version": "3.7.6"
  }
 },
 "nbformat": 4,
 "nbformat_minor": 4
}
